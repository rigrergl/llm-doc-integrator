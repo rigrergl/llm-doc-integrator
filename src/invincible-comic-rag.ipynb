{
 "cells": [
  {
   "metadata": {},
   "cell_type": "markdown",
   "source": [
    "# Introduction\n",
    "\n",
    "This notebook walks through the creation of a RAG system for injecting writing prompts into a user conversation with ChatGPT. \n",
    "\n",
    "We will use a dataset of plot synopsis for chapter of the Invincible comic book series.\n",
    "\n",
    "We will be using the following source: https://comic-invincible.fandom.com/wiki/Invincible_(Comic_Series)\n",
    "While this does not contain the full list of issues for the comics, it is a good starting point that can be expanded upon later."
   ],
   "id": "a3b6be56fd5c1a3d"
  },
  {
   "metadata": {
    "ExecuteTime": {
     "end_time": "2024-08-04T17:36:13.612151Z",
     "start_time": "2024-08-04T17:36:11.436794Z"
    }
   },
   "cell_type": "code",
   "source": [
    "# Installation\n",
    "\n",
    "!pip install beautifulsoup4 requests\n"
   ],
   "id": "73331412e5b718d4",
   "outputs": [
    {
     "name": "stdout",
     "output_type": "stream",
     "text": [
      "Requirement already satisfied: beautifulsoup4 in d:\\source\\llm-doc-integrator\\venv\\lib\\site-packages (4.12.3)\n",
      "Requirement already satisfied: requests in d:\\source\\llm-doc-integrator\\venv\\lib\\site-packages (2.32.3)\n",
      "Requirement already satisfied: soupsieve>1.2 in d:\\source\\llm-doc-integrator\\venv\\lib\\site-packages (from beautifulsoup4) (2.5)\n",
      "Requirement already satisfied: charset-normalizer<4,>=2 in d:\\source\\llm-doc-integrator\\venv\\lib\\site-packages (from requests) (3.3.2)\n",
      "Requirement already satisfied: idna<4,>=2.5 in d:\\source\\llm-doc-integrator\\venv\\lib\\site-packages (from requests) (3.7)\n",
      "Requirement already satisfied: urllib3<3,>=1.21.1 in d:\\source\\llm-doc-integrator\\venv\\lib\\site-packages (from requests) (2.2.2)\n",
      "Requirement already satisfied: certifi>=2017.4.17 in d:\\source\\llm-doc-integrator\\venv\\lib\\site-packages (from requests) (2024.7.4)\n"
     ]
    }
   ],
   "execution_count": 1
  },
  {
   "metadata": {
    "ExecuteTime": {
     "end_time": "2024-08-04T19:38:08.177637Z",
     "start_time": "2024-08-04T19:38:08.051229Z"
    }
   },
   "cell_type": "code",
   "source": [
    "# Imports\n",
    "import os\n",
    "from dotenv import load_dotenv\n",
    "\n",
    "import requests\n",
    "from bs4 import BeautifulSoup\n",
    "\n",
    "import pandas as pd\n",
    "\n",
    "from transformers import AutoTokenizer, AutoModel\n",
    "import torch\n",
    "\n",
    "import pymongo\n",
    "from tqdm.notebook import tqdm"
   ],
   "id": "69c96fa5718de5f9",
   "outputs": [],
   "execution_count": 25
  },
  {
   "metadata": {
    "ExecuteTime": {
     "end_time": "2024-08-04T19:24:47.241340Z",
     "start_time": "2024-08-04T19:24:47.237485Z"
    }
   },
   "cell_type": "code",
   "source": [
    "# Get secrets\n",
    "\n",
    "load_dotenv()\n",
    "\n",
    "mongo_connection_string = os.getenv('MONGO_CONNECTION_STRING')"
   ],
   "id": "fed8fd0a599fb096",
   "outputs": [],
   "execution_count": 19
  },
  {
   "metadata": {},
   "cell_type": "markdown",
   "source": "",
   "id": "2082f404d868aa0e"
  },
  {
   "metadata": {},
   "cell_type": "markdown",
   "source": "# Step 1: Load the dataset into our vector database",
   "id": "31f0f35c8946ca37"
  },
  {
   "metadata": {},
   "cell_type": "markdown",
   "source": "## Scrape index page to find issue links\n",
   "id": "72146eec7552ab04"
  },
  {
   "metadata": {
    "ExecuteTime": {
     "end_time": "2024-08-04T17:36:14.636935Z",
     "start_time": "2024-08-04T17:36:14.433011Z"
    }
   },
   "cell_type": "code",
   "source": [
    "# URL of the index page listing all issues\n",
    "base_url = \"https://comic-invincible.fandom.com\"\n",
    "index_url = \"https://comic-invincible.fandom.com/wiki/Invincible_(Comic_Series)\"\n",
    "index_response = requests.get(index_url)\n",
    "index_soup = BeautifulSoup(index_response.content, 'html.parser')\n",
    "\n",
    "volumes_and_issues_header = index_soup.find('span', id='Volumes_and_Issues').parent\n",
    "issue_links = []\n",
    "\n",
    "for sibling in volumes_and_issues_header.find_next_siblings():\n",
    "    if sibling.name == 'h3':\n",
    "        # Find the next <ul> tag after the <h3>\n",
    "        next_ul = sibling.find_next_sibling('ul')\n",
    "        if next_ul:\n",
    "            # Extract all <a> tags within the <ul>\n",
    "            for a_tag in next_ul.find_all('a'):\n",
    "                issue_links.append(base_url + a_tag['href'])\n",
    "    elif sibling.name == 'div':\n",
    "        # Break if a new div is encountered\n",
    "        break\n",
    "\n",
    "print(issue_links)"
   ],
   "id": "8246e4e4b2a21b00",
   "outputs": [
    {
     "name": "stdout",
     "output_type": "stream",
     "text": [
      "['https://comic-invincible.fandom.com/wiki/Invincible_Vol_1_1', 'https://comic-invincible.fandom.com/wiki/Invincible_Vol_1_2', 'https://comic-invincible.fandom.com/wiki/Invincible_Vol_1_3', 'https://comic-invincible.fandom.com/wiki/Invincible_Vol_1_4', 'https://comic-invincible.fandom.com/wiki/Invincible_Vol_2_1', 'https://comic-invincible.fandom.com/wiki/Invincible_Vol_2_2', 'https://comic-invincible.fandom.com/wiki/Invincible_Vol_2_3', 'https://comic-invincible.fandom.com/wiki/Invincible_Vol_2_4', 'https://comic-invincible.fandom.com/wiki/Invincible_Vol_3_1', 'https://comic-invincible.fandom.com/wiki/Invincible_Vol_3_2', 'https://comic-invincible.fandom.com/wiki/Invincible_Vol_3_3', 'https://comic-invincible.fandom.com/wiki/Invincible_Vol_3_4', 'https://comic-invincible.fandom.com/wiki/Invincible_Vol_3_5', 'https://comic-invincible.fandom.com/wiki/Invincible_Vol_4_1', 'https://comic-invincible.fandom.com/wiki/Invincible_Vol_4_2', 'https://comic-invincible.fandom.com/wiki/Invincible_Vol_4_3', 'https://comic-invincible.fandom.com/wiki/Invincible_Vol_4_4', 'https://comic-invincible.fandom.com/wiki/Invincible_Vol_4_5', 'https://comic-invincible.fandom.com/wiki/Invincible_Vol_4_6', 'https://comic-invincible.fandom.com/wiki/Invincible_Vol_5_1', 'https://comic-invincible.fandom.com/wiki/Invincible_Vol_5_2', 'https://comic-invincible.fandom.com/wiki/Invincible_Vol_5_3', 'https://comic-invincible.fandom.com/wiki/Invincible_Vol_5_4', 'https://comic-invincible.fandom.com/wiki/Invincible_Vol_5_5', 'https://comic-invincible.fandom.com/wiki/Invincible_Vol_5_6', 'https://comic-invincible.fandom.com/wiki/Invincible_Vol_6_1', 'https://comic-invincible.fandom.com/wiki/Invincible_Vol_6_2', 'https://comic-invincible.fandom.com/wiki/Invincible_Vol_6_3', 'https://comic-invincible.fandom.com/wiki/Invincible_Vol_6_4', 'https://comic-invincible.fandom.com/wiki/Invincible_Vol_6_5', 'https://comic-invincible.fandom.com/wiki/Invincible_Vol_6_6', 'https://comic-invincible.fandom.com/wiki/Invincible_Vol_7_1', 'https://comic-invincible.fandom.com/wiki/Invincible_Vol_7_2', 'https://comic-invincible.fandom.com/wiki/Invincible_Vol_7_3', 'https://comic-invincible.fandom.com/wiki/Invincible_Vol_7_4', 'https://comic-invincible.fandom.com/wiki/Invincible_Vol_7_5', 'https://comic-invincible.fandom.com/wiki/Invincible_Vol_8_1', 'https://comic-invincible.fandom.com/wiki/Invincible_Vol_8_2', 'https://comic-invincible.fandom.com/wiki/Invincible_Vol_8_3', 'https://comic-invincible.fandom.com/wiki/Invincible_Vol_8_4', 'https://comic-invincible.fandom.com/wiki/Invincible_Vol_8_5', 'https://comic-invincible.fandom.com/wiki/Invincible_Vol_8_6']\n"
     ]
    }
   ],
   "execution_count": 3
  },
  {
   "metadata": {},
   "cell_type": "markdown",
   "source": "## Scrape issue links to get plot synopses",
   "id": "282130b02eeaaed8"
  },
  {
   "metadata": {
    "ExecuteTime": {
     "end_time": "2024-08-04T19:13:54.621413Z",
     "start_time": "2024-08-04T19:13:49.904641Z"
    }
   },
   "cell_type": "code",
   "source": [
    "all_plot_synopses = []\n",
    "\n",
    "def get_plot_synopsis(url):\n",
    "    response = requests.get(url)\n",
    "    soup = BeautifulSoup(response.content, 'html.parser')\n",
    "    \n",
    "    # Find the \"Plot Synopsis\" header\n",
    "    plot_header = soup.find('span', id='Plot_Synopsis') or soup.find('span', id='Synopsis_for_the_1st_Story')\n",
    "    if plot_header:\n",
    "        plot_header = plot_header.parent\n",
    "    else:\n",
    "        print(\"No plot synopsis found for\", url)\n",
    "        return  # Skip if no relevant header is found\n",
    "    \n",
    "    # Initialize a list to store the plot paragraphs\n",
    "    plot_paragraphs = []\n",
    "\n",
    "    # Iterate over the siblings after the plot header until encountering a different type of tag\n",
    "    for sibling in plot_header.find_next_siblings():\n",
    "        if sibling.name == 'p':\n",
    "            plot_paragraphs.append(sibling.get_text())\n",
    "        else:\n",
    "            break\n",
    "    \n",
    "    full_synopsis = '\\n'.join(plot_paragraphs)\n",
    "    return full_synopsis\n",
    "\n",
    "for link in issue_links:\n",
    "    synopsis = get_plot_synopsis(link)\n",
    "    all_plot_synopses.append(synopsis)\n",
    "\n",
    "# Convert array of strings into a pandas DataFrame\n",
    "synopses_df = pd.DataFrame(all_plot_synopses, columns=[\"synopsis\"])\n",
    "print(synopses_df.head())\n"
   ],
   "id": "855adc72a9ff7ca0",
   "outputs": [
    {
     "name": "stdout",
     "output_type": "stream",
     "text": [
      "                                            synopsis\n",
      "0  Four months into the future, a flying teenage ...\n",
      "1  In a flashback to when Mark Grayson was seven,...\n",
      "2  There's been a rash of disappearances at Mark'...\n",
      "3  Mark flies into the Teen Team base and asks Ro...\n",
      "4  Mark receives a call from his father in his ro...\n"
     ]
    }
   ],
   "execution_count": 11
  },
  {
   "metadata": {
    "ExecuteTime": {
     "end_time": "2024-08-04T19:14:18.768736Z",
     "start_time": "2024-08-04T19:14:18.764095Z"
    }
   },
   "cell_type": "code",
   "source": [
    "def count_total_words(text_array):\n",
    "    total_words = sum(len(sentence.split()) for sentence in text_array)\n",
    "    return total_words\n",
    "\n",
    "total_words = count_total_words(all_plot_synopses)\n",
    "print(f\"Total number of words: {total_words}\")\n",
    "\n",
    "print(f\"Total documents: {len(all_plot_synopses)}\")"
   ],
   "id": "514c2ad3ef1db3cc",
   "outputs": [
    {
     "name": "stdout",
     "output_type": "stream",
     "text": [
      "Total number of words: 20868\n",
      "Total documents: 42\n"
     ]
    }
   ],
   "execution_count": 13
  },
  {
   "metadata": {},
   "cell_type": "markdown",
   "source": "## Create vector embeddings",
   "id": "98be7a152104e6bd"
  },
  {
   "metadata": {
    "ExecuteTime": {
     "end_time": "2024-08-04T19:31:26.812557Z",
     "start_time": "2024-08-04T19:29:56.738478Z"
    }
   },
   "cell_type": "code",
   "source": [
    "# Initialize the tokenizer and model\n",
    "tokenizer = AutoTokenizer.from_pretrained(\"intfloat/e5-large-v2\")\n",
    "model = AutoModel.from_pretrained(\"intfloat/e5-large-v2\").to(\"cuda\" if torch.cuda.is_available() else \"cpu\")\n",
    "\n",
    "# Function to get embeddings with appropriate prefix\n",
    "def get_embedding(text, prefix=\"passage\"):\n",
    "    prefixed_text = f\"{prefix}: {text}\"\n",
    "    tokens = tokenizer(prefixed_text, padding=True, truncation=True, return_tensors=\"pt\").to(model.device)\n",
    "    with torch.no_grad():\n",
    "        outputs = model(**tokens)\n",
    "    embedding = outputs.last_hidden_state.mean(dim=1).cpu().numpy()\n",
    "    return embedding.flatten().tolist()\n",
    "\n",
    "# Enable tqdm with pandas\n",
    "tqdm.pandas()\n",
    "\n",
    "# Create embeddings and store them as a new field\n",
    "synopses_df[\"synopsis_embedding\"] = synopses_df[\"synopsis\"].progress_apply(lambda x: get_embedding(x, prefix=\"passage\"))\n",
    "print(synopses_df[[\"synopsis\", \"synopsis_embedding\"]].head())"
   ],
   "id": "7b3eca79f1f4e774",
   "outputs": [
    {
     "name": "stderr",
     "output_type": "stream",
     "text": [
      "100%|██████████| 42/42 [01:28<00:00,  2.11s/it]"
     ]
    },
    {
     "name": "stdout",
     "output_type": "stream",
     "text": [
      "                                            synopsis  \\\n",
      "0  Four months into the future, a flying teenage ...   \n",
      "1  In a flashback to when Mark Grayson was seven,...   \n",
      "2  There's been a rash of disappearances at Mark'...   \n",
      "3  Mark flies into the Teen Team base and asks Ro...   \n",
      "4  Mark receives a call from his father in his ro...   \n",
      "\n",
      "                                  synopsis_embedding  \n",
      "0  [0.33630841970443726, -1.911747932434082, 0.17...  \n",
      "1  [0.6546132564544678, -1.355846881866455, 0.401...  \n",
      "2  [0.10531767457723618, -1.6947165727615356, 0.3...  \n",
      "3  [0.7967595458030701, -1.3208731412887573, 0.30...  \n",
      "4  [0.5341870784759521, -1.0583305358886719, -0.0...  \n"
     ]
    },
    {
     "name": "stderr",
     "output_type": "stream",
     "text": [
      "\n"
     ]
    }
   ],
   "execution_count": 22
  },
  {
   "metadata": {},
   "cell_type": "markdown",
   "source": "## Store the data in Atas",
   "id": "e012b2515136a01"
  },
  {
   "metadata": {
    "ExecuteTime": {
     "end_time": "2024-08-04T19:31:38.664326Z",
     "start_time": "2024-08-04T19:31:38.660511Z"
    }
   },
   "cell_type": "code",
   "source": [
    "# Get the vector size of the embeddings\n",
    "vector_size = len(synopses_df['synopsis_embedding'].iloc[0])\n",
    "\n",
    "print(f\"The vector size of the embeddings is: {vector_size}\")"
   ],
   "id": "6bdddda83ae1f6b8",
   "outputs": [
    {
     "name": "stdout",
     "output_type": "stream",
     "text": [
      "The vector size of the embeddings is: 1024\n"
     ]
    }
   ],
   "execution_count": 23
  },
  {
   "metadata": {
    "ExecuteTime": {
     "end_time": "2024-08-04T19:38:14.208875Z",
     "start_time": "2024-08-04T19:38:12.882385Z"
    }
   },
   "cell_type": "code",
   "source": [
    "# Connect to Atlas cluster\n",
    "mongo_client = pymongo.MongoClient(mongo_connection_string)\n",
    "\n",
    "# Ingest data into Atlas\n",
    "db = mongo_client[\"invincible\"]\n",
    "collection = db[\"plot_synopses\"]\n",
    "documents = synopses_df.to_dict(\"records\")\n",
    "collection.insert_many(documents)"
   ],
   "id": "d91d5c841f8aeb6e",
   "outputs": [
    {
     "data": {
      "text/plain": [
       "InsertManyResult([ObjectId('66afd8a52fd49b488699f65c'), ObjectId('66afd8a52fd49b488699f65d'), ObjectId('66afd8a52fd49b488699f65e'), ObjectId('66afd8a52fd49b488699f65f'), ObjectId('66afd8a52fd49b488699f660'), ObjectId('66afd8a52fd49b488699f661'), ObjectId('66afd8a52fd49b488699f662'), ObjectId('66afd8a52fd49b488699f663'), ObjectId('66afd8a52fd49b488699f664'), ObjectId('66afd8a52fd49b488699f665'), ObjectId('66afd8a52fd49b488699f666'), ObjectId('66afd8a52fd49b488699f667'), ObjectId('66afd8a52fd49b488699f668'), ObjectId('66afd8a52fd49b488699f669'), ObjectId('66afd8a52fd49b488699f66a'), ObjectId('66afd8a52fd49b488699f66b'), ObjectId('66afd8a52fd49b488699f66c'), ObjectId('66afd8a52fd49b488699f66d'), ObjectId('66afd8a52fd49b488699f66e'), ObjectId('66afd8a52fd49b488699f66f'), ObjectId('66afd8a52fd49b488699f670'), ObjectId('66afd8a52fd49b488699f671'), ObjectId('66afd8a52fd49b488699f672'), ObjectId('66afd8a52fd49b488699f673'), ObjectId('66afd8a52fd49b488699f674'), ObjectId('66afd8a52fd49b488699f675'), ObjectId('66afd8a52fd49b488699f676'), ObjectId('66afd8a52fd49b488699f677'), ObjectId('66afd8a52fd49b488699f678'), ObjectId('66afd8a52fd49b488699f679'), ObjectId('66afd8a52fd49b488699f67a'), ObjectId('66afd8a52fd49b488699f67b'), ObjectId('66afd8a52fd49b488699f67c'), ObjectId('66afd8a52fd49b488699f67d'), ObjectId('66afd8a52fd49b488699f67e'), ObjectId('66afd8a52fd49b488699f67f'), ObjectId('66afd8a52fd49b488699f680'), ObjectId('66afd8a52fd49b488699f681'), ObjectId('66afd8a52fd49b488699f682'), ObjectId('66afd8a52fd49b488699f683'), ObjectId('66afd8a52fd49b488699f684'), ObjectId('66afd8a52fd49b488699f685')], acknowledged=True)"
      ]
     },
     "execution_count": 26,
     "metadata": {},
     "output_type": "execute_result"
    }
   ],
   "execution_count": 26
  },
  {
   "metadata": {},
   "cell_type": "markdown",
   "source": "## Sample query",
   "id": "69d941b71b25536a"
  },
  {
   "metadata": {
    "ExecuteTime": {
     "end_time": "2024-08-04T20:21:34.668216Z",
     "start_time": "2024-08-04T20:21:34.491212Z"
    }
   },
   "cell_type": "code",
   "source": [
    "# Generate embedding for the search query\n",
    "query_embedding = get_embedding(\"Mauler twins escape with Angstrom Levy\", prefix=\"query\")\n",
    "\n",
    "# Sample vector search pipeline\n",
    "pipeline = [\n",
    "   {\n",
    "      \"$vectorSearch\": {\n",
    "      \"index\": \"invincible_synopses_index\",\n",
    "      \"path\": \"synopsis_embedding\",\n",
    "      \"queryVector\": query_embedding,\n",
    "      \"numCandidates\": 42,\n",
    "      \"limit\": 4\n",
    "    }\n",
    "   },\n",
    "   {\n",
    "      \"$project\": {\n",
    "         \"_id\": 0,\n",
    "         \"synopsis\": 1,\n",
    "         \"score\": {\n",
    "            \"$meta\": \"vectorSearchScore\"\n",
    "         }\n",
    "      }\n",
    "   }\n",
    "]\n",
    "# Execute the search\n",
    "results = collection.aggregate(pipeline)\n",
    "# Print results\n",
    "for i in results:\n",
    "   print(i)"
   ],
   "id": "b882eda556630409",
   "outputs": [
    {
     "name": "stdout",
     "output_type": "stream",
     "text": [
      "{'synopsis': 'Mark visits Art to get adjustments on his costume. Art also asks that Mark go see his mother as he hasn’t visited in a month and his superpowers make it easier to go. Mark then tells him that it keeps his mind off being at his house and accidentally reveals that he slept with his girlfriend.\\n\\nMark then flies through his old bedroom window to see his mother. She tells Mark that she will be a realtor and she already has a business degree. Mark reveals to Debbie that his girlfriend knows that he’s Invincible, much to Debbie’s shock. Mark goes on say that Amber figured it anyway and he argues that Claire Bono knows too. Debbie goes on to say that her husband is SuperPatriot and she can be trusted.\\n\\nMark goes on to say that Art, Eve, Claire, Amber, and William know his secret identity, much to Debbie’s surprise Mark heads back to his dorm room and William enters. William asks where he’s been and Mark answers “nowhere.” William learns Mark and Amber are together again and that he spent the night. William accuses them of having sex, though Mark denies. He gets a call from Cecil get suited to deal with the problem.\\n\\nThe Mauler Twins set up the memory transfer machine for Angstrom Levy. The duo thank him for letting them work on the project. Angstrom puts on memory transfer helmet and the duo start the device. Mark breaks in and launches the duo outside of the lab. Angstrom then unleashes more alternate Mauler twins to keep Mark occupied while the machine works. The alternate Maulers continue to pummel him and Angstrom demanded that they don’t kill him. Angstrom then takes the helmet, ignoring the alternate Mauler’s warning. While the original Mauler Twins recover, an explosion occurs, incinerating the alternate versions. However, Mark would survive with minimal injuries.\\n\\nMark stares in shock seeing them dead. The Guardians of the Globe arrive to assess the damage. Immortal informs him that a clean-up crew is en route. A disfigured Mauler finds Angstrom. Angstrom says that he can feel the knowledge of the alternate Angstroms flowing. Angstrom then feels his head after Mauler makes a joke about success and begins to cry after losing his hair to having a folded-scalp. The machine has altered Angstrom’s memory of his disfigurement as he said that he asks the alternate Mauler to kill Mark while he actually tried to stop them. Angstrom then leaves to another dimension to get medical treatment, much to Mauler’s frustration.\\n', 'score': 0.9130430221557617}\n",
      "{'synopsis': \"The issue starts with Mark and Amber on a date at the movies. Afterwards they stop and get a shake and Mark invites Amber over to his house. He invites her inside but she tells him not to get any ideas. Mark says he understands her stance on that and that his mom is home anyway. But when they get inside Debbie is passed out on the couch with empty alcohol bottles around her so Mark brings Amber outside to talk and make out a bit.\\n\\nNext we see the Mauler Twins in Stronghold Penitentiary after The Immortal put them there. A portal appears and Angstrom Levy offers to take them out if they will assist him. Angstrom tells the Maulers about his powers as they walk through another dimension. One of the problems is that he only has limited knowledge of the other dimensions he can travel to. He believes that the Maulers can help him with that. He transports him back to his original dimension, revealing Angstrom will be transported from the location in the alternate reality to the same spatial location in his own dimension. Angstrom then takes them to his lab.\\n\\nMark and his friends go back to school for the first time since the alien invasion. But since there is only two weeks to graduation most of the teachers are just letting them watch movies. William thinks this is great but Eve just rolls her eyes at how goofy he acts.\\n\\nBack at home Mark is talking to his mom about being nervous for college. It's only a couple weeks away since graduation was pushed back. While they're talking Mark notices a bunch of empty alcohol bottles in the trash and gives Debbie a disapproving look. She tells him not to lecture her and then he has to run as he gets a page from Cecil.\\n\\nCecil sends Invincible to assist a Capes, Inc. crew take down a huge and strong deformed man who is rampaging through Manhattan. Bolt from Capes, Inc. explains that the guy's name is Thomas Winters. His wife Holly had been involved in a lab accident that caused her to become immortal. He tried to duplicate the effects but something went wrong. His cells regenerate but they do it so rapidly that it has basically driven him mad. He's also incredibly jealous of any man that even looks at his wife. But they are estranged and Holly has been dating Commander Capitalism of Capes, Inc. for the last couple of months. This is what caused Thomas to attack them.\\n\\nBeating on Thomas isn't working so Mark grabs him and flies him into space where he becomes unconscious from lack of oxygen. Mark flies him back and gets a thanks from Bolt for the help. Bolt also lets Mark know that he has a big black eye which surprises Mark a little. While they're talking Thomas wakes up but before he can attack them Kid Thor hits him with his hammer and knocks him out again.\\n\\nMark flies off because he's now late for his graduation. He tells Amber that he got mugged to explain the black eye. Mark, Eve, William, and Amber all get their diplomas and everyone throws their caps up in celebration. Mark's throws his cap into the air and disappears from sight, much to Mark's annoyance.\\n\", 'score': 0.9045501947402954}\n",
      "{'synopsis': 'Mark demands to know who Angstrom Levy is and why he’s doing it. Debbie how she got in contact and Angstrom cuts her off. Angstrom tells Mark how he learn about Viltrumite having short tempers and how Mark inherited it from his father.\\n\\nHe goes on to tell Mark he learned his identity from other realities he exist in, citing that 40 percent of them has Mark’s identity being public. He points to his head and talks about how Mark caused his deformity and Mark remembers him, calling him “that guy.” This in turn upsets him and he rants about how Mark ruined the process and how surgeons with the best medicine couldn’t fix him. He punches Debbie and Mark rushes towards him.\\n\\nHe then transports Mark to a reality where Dinosaurs were never extinct and mankind no long lives. The Dinosaurs talk and attempt to eat Mark, but Mark escapes after he goes into Angstrom’s portals. He sees Angstrom holding his brother, with Angstrom commenting about how he likes his purple skin. Mark readies himself to attack, believing he will kill his brother. He tosses him in the air and enrages Mark. He then sends him to the Marvel Universe where he attacks Doctor Octopus by accident. Mark apologizes, believing him to be a superhero.\\n\\nDebbie comforts the baby as he is crying while Angstrom taunts her. He opens the portal to see how Mark survived. Mark launches into the room with spider web latched on to him, similar to Spider Man. Mark crashes into a mirror and Angstrom threatens to throw Debbie and the baby into a realities where the Earth was hit by a meteor.\\n\\nMark demands to know why he is doing this and tells Angstrom that he removed the helmet to stop the alternate Mauler twins from killing him. Mark then attempts to surrender and Angstrom refuses to accept it. He tells him that will likely kill his brother and mother anyway and that he will go to the other realities and kills the other Marks. An enraged Mark then rushes towards him and he transports him into an alternate universe.\\n\\nWhile Angstrom is distracted, Debbie uses the opportunity to attack him with a lamp, though the latter has no effect on him. He then rushes to Debbie and easily breaks her arm, causing her to scream in pain.\\n\\nMeanwhile, Mark is sitting by a fire talking to other characters from Walking Dead. He would be transported through various realities where he would briefly battle Omnipotus and meets Batman from the DC Universe, talking about how he is lazy for calling himself Batman because he’s dressed like a bat. He then sees Angstrom put his head out to look for Mark and uses the opportunity to grab him. He sees that Angstrom broke his mother’s arm and charges him out through the house. He then distracts by telling him that the surgeons enhanced his body as well.\\n\\nAngstrom punches him sending him through multiple realities until they land in a wasteland like dimension. Mark then punches him off. Angstrom threatens his family and this sets Mark off. Mark pummels Angstrom, gushing blood all over Mark’s body. Mark then sees what he has done and panics, making it the first time Mark has ever killed someone.\\n', 'score': 0.9010080695152283}\n",
      "{'synopsis': 'Eve flies Amber back home, but Amber asks that she drop him off by Debbie’s as she is worried about Mark. Mark begins to panic more as he believes he has killed his only way back to his reality. Mark attempts to justify what happened by him mentioning that Angstrom Levy said that he was stronger. Mark then notices that he will likely die of starvation and sees the irony of how Angstrom won.\\n\\nThe Mauler twins finish working creating a clone of Rex in the body of a young child for Robot. The Mauler then asks on why he didn’t choose an adult body rather and Robot then tells him that it is part what he calls “Phase 2”. The disfigured Robot wakes up from his anthtestic coma and asks his clone to kill him. He removes his mask and he dies in seconds. Mauler then brings up their payment and then the Robot clone says that he won’t be paying them, but instead sending them to prison. The duo mock him and he sends a drone against them. They attempt to punch him and he dodges.\\n\\nMark then reflect on what he should do to get out and a dimensional portal opens up. Arriving through are much older versions of Monster Girl, Knockout, Kid Thor, Bulletproof, Eve, and Robot. Eve transmutates Mark’s clothes and Robot tells him of the events that happened in their reality. Bulletproof tells Mark that he killed Angstrom fifteen years in their reality. He then asks what happened to their reality’s Mark.\\n\\nEve responds that he was lost to them. Robot then ends there and opens a portal back to Mark’s original reality. Before he can go, Eve then confesses his love to Mark and asks that he tell his reality’s Eve the same or opposite to give her closure.\\n\\nRobot reprimands her for interfering with the future with her telling him to shut up. He removes his helmet, revealing himself to be a much older version of Rex’s clone. The Mauler successfully destroy Robot’s drone and sends a much larger one to deal with them.\\n\\nEve and Amber arrive to the scene and sees the wreckage. Mark arrives to the scene, looking for his family. Amber hugs Mark and gets a call from Cecil Stedman that his family in at the Pentagon. Mark rushes there and Cecil tells him that they covered up the house wreckage. Cecil finds out that Mark killed Angstrom and commends him for what he believe was the “right thing.”. Mark then goes to see his brother and mother.\\n\\nDebbie gets her arm bandaged and casted while the baby is inspected. Mark apologizes for letting Angstrom hurt Debbie and she says that it’s over now and she’s been through worse.\\n', 'score': 0.9009102582931519}\n"
     ]
    }
   ],
   "execution_count": 52
  },
  {
   "metadata": {},
   "cell_type": "code",
   "outputs": [],
   "execution_count": null,
   "source": "",
   "id": "eab41c6db3269794"
  }
 ],
 "metadata": {
  "kernelspec": {
   "display_name": "Python 3",
   "language": "python",
   "name": "python3"
  },
  "language_info": {
   "codemirror_mode": {
    "name": "ipython",
    "version": 2
   },
   "file_extension": ".py",
   "mimetype": "text/x-python",
   "name": "python",
   "nbconvert_exporter": "python",
   "pygments_lexer": "ipython2",
   "version": "2.7.6"
  }
 },
 "nbformat": 4,
 "nbformat_minor": 5
}
