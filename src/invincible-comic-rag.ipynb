{
 "cells": [
  {
   "metadata": {},
   "cell_type": "markdown",
   "source": [
    "# Introduction\n",
    "\n",
    "This notebook walks through the creation of a RAG system for injecting writing prompts into a user conversation with ChatGPT. \n",
    "\n",
    "We will use a dataset of plot synopsis for chapter of the Invincible comic book series.\n",
    "\n",
    "We will be using the following source: https://comic-invincible.fandom.com/wiki/Invincible_(Comic_Series)\n",
    "While this does not contain the full list of issues for the comics, it is a good starting point that can be expanded upon later."
   ],
   "id": "a3b6be56fd5c1a3d"
  },
  {
   "metadata": {},
   "cell_type": "code",
   "source": [
    "# Installation\n",
    "\n",
    "!pip install beautifulsoup4 requests\n",
    "\n",
    "!pip install openai\n"
   ],
   "id": "73331412e5b718d4",
   "outputs": [],
   "execution_count": null
  },
  {
   "metadata": {
    "ExecuteTime": {
     "end_time": "2024-08-05T23:28:26.552580Z",
     "start_time": "2024-08-05T23:28:22.797932Z"
    }
   },
   "cell_type": "code",
   "source": [
    "# Imports\n",
    "import os\n",
    "from dotenv import load_dotenv\n",
    "\n",
    "import requests\n",
    "from bs4 import BeautifulSoup\n",
    "\n",
    "import pandas as pd\n",
    "\n",
    "from transformers import AutoTokenizer, AutoModel\n",
    "import torch\n",
    "\n",
    "import pymongo\n",
    "from tqdm.notebook import tqdm\n",
    "\n",
    "from openai import OpenAI"
   ],
   "id": "69c96fa5718de5f9",
   "outputs": [],
   "execution_count": 1
  },
  {
   "metadata": {
    "ExecuteTime": {
     "end_time": "2024-08-05T23:29:08.308809Z",
     "start_time": "2024-08-05T23:29:08.304035Z"
    }
   },
   "cell_type": "code",
   "source": [
    "# Get secrets\n",
    "\n",
    "load_dotenv()\n",
    "\n",
    "mongo_connection_string = os.getenv('MONGO_CONNECTION_STRING')\n",
    "openai_api_key = os.getenv('OPENAI_API_KEY')"
   ],
   "id": "fed8fd0a599fb096",
   "outputs": [],
   "execution_count": 2
  },
  {
   "metadata": {},
   "cell_type": "markdown",
   "source": "# Step 1: Load the dataset into our vector database",
   "id": "31f0f35c8946ca37"
  },
  {
   "metadata": {},
   "cell_type": "markdown",
   "source": "## Scrape index page to find issue links\n",
   "id": "72146eec7552ab04"
  },
  {
   "metadata": {
    "ExecuteTime": {
     "end_time": "2024-08-04T17:36:14.636935Z",
     "start_time": "2024-08-04T17:36:14.433011Z"
    }
   },
   "cell_type": "code",
   "source": [
    "# URL of the index page listing all issues\n",
    "base_url = \"https://comic-invincible.fandom.com\"\n",
    "index_url = \"https://comic-invincible.fandom.com/wiki/Invincible_(Comic_Series)\"\n",
    "index_response = requests.get(index_url)\n",
    "index_soup = BeautifulSoup(index_response.content, 'html.parser')\n",
    "\n",
    "volumes_and_issues_header = index_soup.find('span', id='Volumes_and_Issues').parent\n",
    "issue_links = []\n",
    "\n",
    "for sibling in volumes_and_issues_header.find_next_siblings():\n",
    "    if sibling.name == 'h3':\n",
    "        # Find the next <ul> tag after the <h3>\n",
    "        next_ul = sibling.find_next_sibling('ul')\n",
    "        if next_ul:\n",
    "            # Extract all <a> tags within the <ul>\n",
    "            for a_tag in next_ul.find_all('a'):\n",
    "                issue_links.append(base_url + a_tag['href'])\n",
    "    elif sibling.name == 'div':\n",
    "        # Break if a new div is encountered\n",
    "        break\n",
    "\n",
    "print(issue_links)"
   ],
   "id": "8246e4e4b2a21b00",
   "outputs": [
    {
     "name": "stdout",
     "output_type": "stream",
     "text": [
      "['https://comic-invincible.fandom.com/wiki/Invincible_Vol_1_1', 'https://comic-invincible.fandom.com/wiki/Invincible_Vol_1_2', 'https://comic-invincible.fandom.com/wiki/Invincible_Vol_1_3', 'https://comic-invincible.fandom.com/wiki/Invincible_Vol_1_4', 'https://comic-invincible.fandom.com/wiki/Invincible_Vol_2_1', 'https://comic-invincible.fandom.com/wiki/Invincible_Vol_2_2', 'https://comic-invincible.fandom.com/wiki/Invincible_Vol_2_3', 'https://comic-invincible.fandom.com/wiki/Invincible_Vol_2_4', 'https://comic-invincible.fandom.com/wiki/Invincible_Vol_3_1', 'https://comic-invincible.fandom.com/wiki/Invincible_Vol_3_2', 'https://comic-invincible.fandom.com/wiki/Invincible_Vol_3_3', 'https://comic-invincible.fandom.com/wiki/Invincible_Vol_3_4', 'https://comic-invincible.fandom.com/wiki/Invincible_Vol_3_5', 'https://comic-invincible.fandom.com/wiki/Invincible_Vol_4_1', 'https://comic-invincible.fandom.com/wiki/Invincible_Vol_4_2', 'https://comic-invincible.fandom.com/wiki/Invincible_Vol_4_3', 'https://comic-invincible.fandom.com/wiki/Invincible_Vol_4_4', 'https://comic-invincible.fandom.com/wiki/Invincible_Vol_4_5', 'https://comic-invincible.fandom.com/wiki/Invincible_Vol_4_6', 'https://comic-invincible.fandom.com/wiki/Invincible_Vol_5_1', 'https://comic-invincible.fandom.com/wiki/Invincible_Vol_5_2', 'https://comic-invincible.fandom.com/wiki/Invincible_Vol_5_3', 'https://comic-invincible.fandom.com/wiki/Invincible_Vol_5_4', 'https://comic-invincible.fandom.com/wiki/Invincible_Vol_5_5', 'https://comic-invincible.fandom.com/wiki/Invincible_Vol_5_6', 'https://comic-invincible.fandom.com/wiki/Invincible_Vol_6_1', 'https://comic-invincible.fandom.com/wiki/Invincible_Vol_6_2', 'https://comic-invincible.fandom.com/wiki/Invincible_Vol_6_3', 'https://comic-invincible.fandom.com/wiki/Invincible_Vol_6_4', 'https://comic-invincible.fandom.com/wiki/Invincible_Vol_6_5', 'https://comic-invincible.fandom.com/wiki/Invincible_Vol_6_6', 'https://comic-invincible.fandom.com/wiki/Invincible_Vol_7_1', 'https://comic-invincible.fandom.com/wiki/Invincible_Vol_7_2', 'https://comic-invincible.fandom.com/wiki/Invincible_Vol_7_3', 'https://comic-invincible.fandom.com/wiki/Invincible_Vol_7_4', 'https://comic-invincible.fandom.com/wiki/Invincible_Vol_7_5', 'https://comic-invincible.fandom.com/wiki/Invincible_Vol_8_1', 'https://comic-invincible.fandom.com/wiki/Invincible_Vol_8_2', 'https://comic-invincible.fandom.com/wiki/Invincible_Vol_8_3', 'https://comic-invincible.fandom.com/wiki/Invincible_Vol_8_4', 'https://comic-invincible.fandom.com/wiki/Invincible_Vol_8_5', 'https://comic-invincible.fandom.com/wiki/Invincible_Vol_8_6']\n"
     ]
    }
   ],
   "execution_count": 3
  },
  {
   "metadata": {},
   "cell_type": "markdown",
   "source": "## Scrape issue links to get plot synopses",
   "id": "282130b02eeaaed8"
  },
  {
   "metadata": {
    "ExecuteTime": {
     "end_time": "2024-08-04T19:13:54.621413Z",
     "start_time": "2024-08-04T19:13:49.904641Z"
    }
   },
   "cell_type": "code",
   "source": [
    "all_plot_synopses = []\n",
    "\n",
    "def get_plot_synopsis(url):\n",
    "    response = requests.get(url)\n",
    "    soup = BeautifulSoup(response.content, 'html.parser')\n",
    "    \n",
    "    # Find the \"Plot Synopsis\" header\n",
    "    plot_header = soup.find('span', id='Plot_Synopsis') or soup.find('span', id='Synopsis_for_the_1st_Story')\n",
    "    if plot_header:\n",
    "        plot_header = plot_header.parent\n",
    "    else:\n",
    "        print(\"No plot synopsis found for\", url)\n",
    "        return  # Skip if no relevant header is found\n",
    "    \n",
    "    # Initialize a list to store the plot paragraphs\n",
    "    plot_paragraphs = []\n",
    "\n",
    "    # Iterate over the siblings after the plot header until encountering a different type of tag\n",
    "    for sibling in plot_header.find_next_siblings():\n",
    "        if sibling.name == 'p':\n",
    "            plot_paragraphs.append(sibling.get_text())\n",
    "        else:\n",
    "            break\n",
    "    \n",
    "    full_synopsis = '\\n'.join(plot_paragraphs)\n",
    "    return full_synopsis\n",
    "\n",
    "for link in issue_links:\n",
    "    synopsis = get_plot_synopsis(link)\n",
    "    all_plot_synopses.append(synopsis)\n",
    "\n",
    "# Convert array of strings into a pandas DataFrame\n",
    "synopses_df = pd.DataFrame(all_plot_synopses, columns=[\"synopsis\"])\n",
    "print(synopses_df.head())\n"
   ],
   "id": "855adc72a9ff7ca0",
   "outputs": [
    {
     "name": "stdout",
     "output_type": "stream",
     "text": [
      "                                            synopsis\n",
      "0  Four months into the future, a flying teenage ...\n",
      "1  In a flashback to when Mark Grayson was seven,...\n",
      "2  There's been a rash of disappearances at Mark'...\n",
      "3  Mark flies into the Teen Team base and asks Ro...\n",
      "4  Mark receives a call from his father in his ro...\n"
     ]
    }
   ],
   "execution_count": 11
  },
  {
   "metadata": {
    "ExecuteTime": {
     "end_time": "2024-08-04T19:14:18.768736Z",
     "start_time": "2024-08-04T19:14:18.764095Z"
    }
   },
   "cell_type": "code",
   "source": [
    "def count_total_words(text_array):\n",
    "    total_words = sum(len(sentence.split()) for sentence in text_array)\n",
    "    return total_words\n",
    "\n",
    "total_words = count_total_words(all_plot_synopses)\n",
    "print(f\"Total number of words: {total_words}\")\n",
    "\n",
    "print(f\"Total documents: {len(all_plot_synopses)}\")"
   ],
   "id": "514c2ad3ef1db3cc",
   "outputs": [
    {
     "name": "stdout",
     "output_type": "stream",
     "text": [
      "Total number of words: 20868\n",
      "Total documents: 42\n"
     ]
    }
   ],
   "execution_count": 13
  },
  {
   "metadata": {},
   "cell_type": "markdown",
   "source": "## Create vector embeddings",
   "id": "98be7a152104e6bd"
  },
  {
   "metadata": {
    "ExecuteTime": {
     "end_time": "2024-08-05T23:29:19.791271Z",
     "start_time": "2024-08-05T23:29:18.047223Z"
    }
   },
   "cell_type": "code",
   "source": [
    "# Initialize the tokenizer and model\n",
    "tokenizer = AutoTokenizer.from_pretrained(\"intfloat/e5-large-v2\")\n",
    "model = AutoModel.from_pretrained(\"intfloat/e5-large-v2\").to(\"cuda\" if torch.cuda.is_available() else \"cpu\")\n",
    "\n",
    "# Function to get embeddings with appropriate prefix\n",
    "def get_embedding(text, prefix=\"passage\"):\n",
    "    prefixed_text = f\"{prefix}: {text}\"\n",
    "    tokens = tokenizer(prefixed_text, padding=True, truncation=True, return_tensors=\"pt\").to(model.device)\n",
    "    with torch.no_grad():\n",
    "        outputs = model(**tokens)\n",
    "    embedding = outputs.last_hidden_state.mean(dim=1).cpu().numpy()\n",
    "    return embedding.flatten().tolist()"
   ],
   "id": "913f5380ea6a6ec1",
   "outputs": [],
   "execution_count": 3
  },
  {
   "metadata": {
    "ExecuteTime": {
     "end_time": "2024-08-04T19:31:26.812557Z",
     "start_time": "2024-08-04T19:29:56.738478Z"
    }
   },
   "cell_type": "code",
   "source": [
    "# Enable tqdm with pandas\n",
    "tqdm.pandas()\n",
    "\n",
    "# Create embeddings and store them as a new field\n",
    "synopses_df[\"synopsis_embedding\"] = synopses_df[\"synopsis\"].progress_apply(lambda x: get_embedding(x, prefix=\"passage\"))\n",
    "print(synopses_df[[\"synopsis\", \"synopsis_embedding\"]].head())"
   ],
   "id": "7b3eca79f1f4e774",
   "outputs": [
    {
     "name": "stderr",
     "output_type": "stream",
     "text": [
      "100%|██████████| 42/42 [01:28<00:00,  2.11s/it]"
     ]
    },
    {
     "name": "stdout",
     "output_type": "stream",
     "text": [
      "                                            synopsis  \\\n",
      "0  Four months into the future, a flying teenage ...   \n",
      "1  In a flashback to when Mark Grayson was seven,...   \n",
      "2  There's been a rash of disappearances at Mark'...   \n",
      "3  Mark flies into the Teen Team base and asks Ro...   \n",
      "4  Mark receives a call from his father in his ro...   \n",
      "\n",
      "                                  synopsis_embedding  \n",
      "0  [0.33630841970443726, -1.911747932434082, 0.17...  \n",
      "1  [0.6546132564544678, -1.355846881866455, 0.401...  \n",
      "2  [0.10531767457723618, -1.6947165727615356, 0.3...  \n",
      "3  [0.7967595458030701, -1.3208731412887573, 0.30...  \n",
      "4  [0.5341870784759521, -1.0583305358886719, -0.0...  \n"
     ]
    },
    {
     "name": "stderr",
     "output_type": "stream",
     "text": [
      "\n"
     ]
    }
   ],
   "execution_count": 22
  },
  {
   "metadata": {},
   "cell_type": "markdown",
   "source": "## Store the data in Atas",
   "id": "e012b2515136a01"
  },
  {
   "metadata": {
    "ExecuteTime": {
     "end_time": "2024-08-04T19:31:38.664326Z",
     "start_time": "2024-08-04T19:31:38.660511Z"
    }
   },
   "cell_type": "code",
   "source": [
    "# Get the vector size of the embeddings\n",
    "vector_size = len(synopses_df['synopsis_embedding'].iloc[0])\n",
    "\n",
    "print(f\"The vector size of the embeddings is: {vector_size}\")"
   ],
   "id": "6bdddda83ae1f6b8",
   "outputs": [
    {
     "name": "stdout",
     "output_type": "stream",
     "text": [
      "The vector size of the embeddings is: 1024\n"
     ]
    }
   ],
   "execution_count": 23
  },
  {
   "metadata": {
    "ExecuteTime": {
     "end_time": "2024-08-05T23:29:23.328782Z",
     "start_time": "2024-08-05T23:29:23.064067Z"
    }
   },
   "cell_type": "code",
   "source": [
    "# Connect to Atlas cluster\n",
    "mongo_client = pymongo.MongoClient(mongo_connection_string)\n",
    "\n",
    "# Ingest data into Atlas\n",
    "db = mongo_client[\"invincible\"]\n",
    "collection = db[\"plot_synopses\"]"
   ],
   "id": "d91d5c841f8aeb6e",
   "outputs": [],
   "execution_count": 4
  },
  {
   "metadata": {},
   "cell_type": "code",
   "outputs": [],
   "execution_count": null,
   "source": [
    "documents = synopses_df.to_dict(\"records\")\n",
    "collection.insert_many(documents)"
   ],
   "id": "e1759d7ec6c58214"
  },
  {
   "metadata": {},
   "cell_type": "markdown",
   "source": "## Sample query",
   "id": "69d941b71b25536a"
  },
  {
   "metadata": {
    "ExecuteTime": {
     "end_time": "2024-08-05T23:29:27.312836Z",
     "start_time": "2024-08-05T23:29:25.675447Z"
    }
   },
   "cell_type": "code",
   "source": [
    "def vector_query(query):\n",
    "    # Generate embedding for the search query\n",
    "    query_embedding = get_embedding(\"Nolan tells Mark the truth about Viltrum\", prefix=\"query\")\n",
    "    \n",
    "    pipeline = [\n",
    "       {\n",
    "          \"$vectorSearch\": {\n",
    "          \"index\": \"invincible_synopses_index\",\n",
    "          \"path\": \"synopsis_embedding\",\n",
    "          \"queryVector\": query_embedding,\n",
    "          \"numCandidates\": 42,\n",
    "          \"limit\": 4\n",
    "        }\n",
    "       },\n",
    "       {\n",
    "          \"$project\": {\n",
    "             \"_id\": 0,\n",
    "             \"synopsis\": 1,\n",
    "             \"score\": {\n",
    "                \"$meta\": \"vectorSearchScore\"\n",
    "             }\n",
    "          }\n",
    "       }\n",
    "    ]\n",
    "\n",
    "    # Execute the search\n",
    "    return collection.aggregate(pipeline)\n",
    "\n",
    "   \n",
    "   \n",
    "results = vector_query(\"Nolan tells Mark the truth about Viltrum\")\n",
    "for result in results:\n",
    "    print(result)"
   ],
   "id": "b882eda556630409",
   "outputs": [
    {
     "name": "stdout",
     "output_type": "stream",
     "text": [
      "{'synopsis': \"Nolan then reveals to Mark the truth about his origin and the Viltrumites. Nolan reveals that the Viltrumites achieved a perfect society, but not without killing off the weak from their planet. Cutting the population in half, they emerged unbeatable warrior race. Afterwards, a planetary empire was established and was agreed upon unanimously. Nolan expanded on Viltrumite history by explaining the planet conquering process. First, a planet was searched for and founded. They would set up an orbit monitor to see their conquered planet. He revealed that those who accepted takeover would be given Viltrumite technology to help their way of life. Those who resisted would be killed off until they submitted. Seeing it as successful, the Viltrumites double their efforts in conquering planets.\\n\\nThey would begin to use enslaved aliens to conquer planets to avoid overusing Viltrumites. Not long after Nolan was born, he then would accept a job to help find planets, but would be eager to prove himself. Nolan would then audition and finally prove himself worthy of conquering planets. Nolan would conquer several planets and soon lead his own unit. The Viltrumites would destroy an one-eyed alien race civilization. Nolan would be awarded for his planet conquering. As they continue conquering planets, a new strategy was devised to make up for their ranks being stretched too thin. Taking advantage of their long life spans, the World Conquering Committee would send Viltrumites to planets to survey, weaken, and prepare for Viltrumite rule. Nolan would was assigned to Earth and left for it. He would at first hate Earth, and noted that it would always be into some kind of trouble.\\n\\nHe would fight Allen many times, mistaking him for an alien invader. A few months after, he would meet Debbie, his soon-to-be wife after saving her. Nolan would find it hard to settle into human life as he would hurt people such as muggers, doing menial labor, but would find sex for anything other than procreating to be enjoyable. Nolan would eventually marry Debbie. Nolan would encounter many superheroes such as Brit and the original Guardians. He wouldn’t join, but would be welcome anyways. Nolan then befriended them and came to the revelation that he may have to kill them to weaken Earth.\\n\\nDebbie would become pregnant and give birth to Mark. Nolan then decided that he would raise him as a human rather than a Viltrumite, but not without thinking about it. Nolan then began to realize that he had grown attached to Debbie and decided to put his duties on hold to be a father. After Mark got his powers, he revealed that he killed the original Guardians. Nolan then asks Mark to help him take over Earth, much to Mark's shock. Mark then denies that Nolan’s origin is true.\\n\\nNolan then reveals that Viltrumites age slower than humans as they get older, and calls Debbie a “pet.” Nolan also reveals that Viltrumite DNA is so pure that it overrides the other mate DNA and Mark is nearly full-blooded. Nolan also reveals that Mark will become potentially stronger than him and live for thousands of years. Nolan goes on to say that everyone he loves will die before old age can take an effect on him. Mark then refuses to help him take over Earth and the duo began to battle.\\n\", 'score': 0.9266295433044434}\n",
      "{'synopsis': 'Mark has Andressa move to the cave opening. While the Viltrumite is distracted from seeing that Nolan had a child with a Thraxan. Mark punches him and uses the chance to escape. The Viltrumite identifies himself as Lucan and tells himself not to turn his back on enemies or he’ll never advance in rank. Mark then keeps flying and asks that Andressa keep an eye on him. Lucan gets close to Mark while attempting to grab him, declaring that he will kill Andressa and her child before he fights Mark. Nolan then intervenes by striking Lucan to the ground. Mark then lands with the duo, panting from exhaustion.\\n\\nMeanwhile in the Guardians’ base, Immortal goes to visit Black Samson after his battle with Omnipotus. Immortal asks how he’s feeling and Samson says that his near-death experience caused him to regain his powers and the coma cause his powers to overcharge. He goes on say that his powers return to normal.\\n\\nImmortal states that he’s glad that Samson’s back and Samson argues that Immortal doesn’t care, citing that Immortal never visited him. Immortal confirms this and argues his point. He goes on to say that his long life span has made him distant towards people, as he would get attach to people, and they would die. After his wife, Grace, he let no one close to him. He then talks about how he comes to regret not getting close to the original Guardians now that he and Samson are the last remaining.\\n\\nHe says that his relationship with Kate has made him see the world through a different light and says that she’s makes life interesting. Samson questioning the big age difference between the two. Mauler then clones himself again after his prior clone was incinerated by the explosion of the machine they built Angstrom Levy.\\n\\nAmber then has Bridget come in with her question where Mark is faithful to Amber, citing that he hasn’t called her.\\n\\nDebbie looks into old pictures of Nolan and her, including their wedding, Mark growing up, and time spent together. She cries as she see them and then goes to sleep after drinking. Mark then readies himself to take Andressa and her son to mines and Nolan returns, covered in blood, to say that they’ll be going back to the caves.\\n\\nNolan reveals to have killed Lucan and says that he’s the only one that knew about the caves. Nolan then notices Mark’s fatigue from flying and tells Mark to push himself to become stronger and faster. He then drops off the duo off and heads to the city to meet with Nolan. Mark sees the carnage as the Viltrumites have slain many Thraxans and lay their main capital city to waste. An enraged Nolan begins to cry after seeing it.\\n', 'score': 0.9229657649993896}\n",
      "{'synopsis': 'Nolan wipes away his tears, realizing that he cared for the Thraxans, though claiming them to be inferior. Mark attempts to comfort Nolan, but Nolan tainted with rage, grabs Mark neck. Mark asks him to let him go and The two remaining Viltrumites see this as it reminds them of the Viltrumite Nolan. An enraged Nolan charges for one, grabbing his neck and knocking the other aside. Nolan demands to know why they killed the Thraxans and the nameless Viltrumites says to aggravate Nolan.\\n\\nMark intervenes but was easily swept away. Mark is then taken captive by a Viltrumite who attempts to suffocate Mark. Mark attempts to get him to let go, but his punch has little effect on him. Nolan knocks his opponent to the Viltrumite and tells Mark stop thinking and act instead. The duo began to fly towards Mark and Nolan.\\n\\nOn Earth, the disfigured Mauler is poisoned by his clone and plans to clone himself. From evening until morning, Mark and Nolan would battle the two Viltrumites. Nolan manages to beat his opponent by smashing his temples with his fists. He goes over to help Mark and grabs the Viltrumite’s throat. Nolan headbutts him, causing his eye to pop out the socket. It is revealed that Lucan survived his ordeal with Nolan, but not without being disemboweled. He ambushes Nolan, breaking his spine while he manages to hold his intestines together. Lucan succumbs to his injuries and loses consciousness. While the four are unconscious, a Viltrumite informs his superior that “it’s done.”\\n\\nNolan is then taken into Viltrumite custody and the four have their injuries tended to. Before he leaves, he tells Mark to read his books. The Viltrumite tell Mark that he has proven himself worthy and he will act as the Viltrumite agent for Earth, taking Nolan’s position. The Viltrumite goes on that Mark has a century deadline to take over Earth and if he doesn’t complete this task, he will be killed on sight.\\n\\nMark then uses to time to rest. Mark goes back to the cave where Andressa is located. Andressa demands to know where her husband and Mark tells her of Nolan’s capture.\\n', 'score': 0.9228568077087402}\n",
      "{'synopsis': 'Shocked to see his father again, Mark began to clench his fists as if he is about to fight. Nolan does so too and Mark begins to cry. Mark hugs him, much to Nolan’s surprise. Nolan embraces Mark and tells him how much he misses him. Mark then begs Nolan to come back to Earth to live with him and Debbie. Nolan refuses because he killed many in his battle against Mark.\\n\\nMeanwhile on Earth, Cecil visits Debbie to discuss Mark going into space. Debbie reveals that Donald Ferguson relied the message. Debbie then tells Cecil that she’s studying to be a real estate agent and that the money the government gives her is good, but she rather earn money. Cecil says that she can earn money other ways. Debbie takes his remark as a proposition for prostitution and slaps her. She apologizes for misinterpreting and Cecil leaves.\\n\\nRobot then has one of his drones go to a secret facility where he declares his new plans. He then takes Rex’s DNA and goes on to what he calls “Phase Two.”\\n\\nMeanwhile in space, Nolan and Mark finish arguing. Mark asks how he go there. Nolan asks his guard to leave them. Nolan tells Mark about how he has lived for thousands of years and that he knew that if Mark didn’t join him, he would have to kill him. Nolan goes on to say that he knew leaving Earth meant certain death by his own people. Nolan decided to leave Earth and find a world to conquer an attempt to lessen his punishment.\\n\\nAfter landing on the planet, he saw how they were different from Humans and how they were more advanced and less advanced than them. Their downfall was their short longevity of nine months. However, in order to make for it, they have can learn skills almost instantly. The most eldest alien rules the entire planet.\\n\\nAfter Nolan revealed his thousand year life span, he was elected the new leader. Nolan goes on to say that he instructed them to retrieve Nolan, but they misinterpreted. Mark then attacks Nolan to see if he’s an insectoid. Nolan compliments his strength and they head into his personal chambers.\\n\\nHe then tells Mark that the Viltrum Empire knows there. They are interrupted by an insectoid women. He then tongue kisses her, much to Mark surprise. Nolan introduces her to him as Andressa, his mate and wife. Mark argues that he is abandoning him again but Nolan rebuffs, citing that he betrayed Viltrum for Mark to live. He then mentions his mother with Nolan not wishing to speak of it. Nolan then reveals to Mark that he has a younger brother, much to his surprise.\\n', 'score': 0.9220078587532043}\n"
     ]
    }
   ],
   "execution_count": 5
  },
  {
   "metadata": {},
   "cell_type": "markdown",
   "source": "# Step 2: Integrate with LLM",
   "id": "b4d6c71aae58c1cf"
  },
  {
   "metadata": {},
   "cell_type": "code",
   "outputs": [],
   "execution_count": null,
   "source": [
    "client = OpenAI(\n",
    "    api_key=openai_api_key,\n",
    ")"
   ],
   "id": "c7b1b25061000607"
  },
  {
   "metadata": {
    "ExecuteTime": {
     "end_time": "2024-08-05T23:36:57.781630Z",
     "start_time": "2024-08-05T23:36:55.241951Z"
    }
   },
   "cell_type": "code",
   "source": [
    "def get_vector_query(user_prompt):\n",
    "    chat_completion = client.chat.completions.create(\n",
    "    messages=[\n",
    "        {\n",
    "            \"role\": \"user\",\n",
    "            \"content\": f\"Can you output a vector query for the following user prompt: \\\"{user_prompt}\\\". Please output only the text query. Example: \\\"Nolan tells Mark the truth about Viltrum\\\". You need to turn the user query into search terms for a vector database with embedded plot synopses for every issue of the comic.\",\n",
    "        }\n",
    "    ],\n",
    "    model=\"gpt-3.5-turbo\",\n",
    "    )\n",
    "    \n",
    "    return chat_completion.choices[0].message.content\n",
    "    \n",
    "print(get_vector_query(\"How did Nolan react when Mark got his powers\"))\n",
    "    "
   ],
   "id": "d0006dea6e5c4570",
   "outputs": [
    {
     "name": "stdout",
     "output_type": "stream",
     "text": [
      "\"Nolan's reaction to Mark obtaining powers\"\n"
     ]
    }
   ],
   "execution_count": 6
  }
 ],
 "metadata": {
  "kernelspec": {
   "display_name": "Python 3",
   "language": "python",
   "name": "python3"
  },
  "language_info": {
   "codemirror_mode": {
    "name": "ipython",
    "version": 2
   },
   "file_extension": ".py",
   "mimetype": "text/x-python",
   "name": "python",
   "nbconvert_exporter": "python",
   "pygments_lexer": "ipython2",
   "version": "2.7.6"
  }
 },
 "nbformat": 4,
 "nbformat_minor": 5
}
