{
 "cells": [
  {
   "metadata": {
    "ExecuteTime": {
     "end_time": "2024-07-16T01:31:21.071655Z",
     "start_time": "2024-07-16T01:31:19.385030Z"
    }
   },
   "cell_type": "code",
   "source": [
    "# Installation\n",
    "\n",
    "!pip install --quiet datasets pandas nomic sentence-transformers einops pymongo"
   ],
   "id": "994c450e16b3101b",
   "outputs": [],
   "execution_count": 9
  },
  {
   "metadata": {
    "ExecuteTime": {
     "end_time": "2024-07-16T01:31:21.075184Z",
     "start_time": "2024-07-16T01:31:21.072667Z"
    }
   },
   "cell_type": "code",
   "source": [
    "# Imports\n",
    "\n",
    "import os\n",
    "from dotenv import load_dotenv\n",
    "\n",
    "from sentence_transformers import SentenceTransformer\n",
    "import pandas as pd\n",
    "import pymongo"
   ],
   "id": "initial_id",
   "outputs": [],
   "execution_count": 10
  },
  {
   "metadata": {
    "ExecuteTime": {
     "end_time": "2024-07-16T01:31:21.084422Z",
     "start_time": "2024-07-16T01:31:21.075184Z"
    }
   },
   "cell_type": "code",
   "source": [
    "# Load secrets\n",
    "\n",
    "load_dotenv()\n",
    "\n",
    "mongo_connection_string = os.getenv('MONGO_CONNECTION_STRING')\n",
    "openai_api_key = os.getenv('OPENAI_API_KEY')"
   ],
   "id": "4ab0a6b7ae6fe7d3",
   "outputs": [],
   "execution_count": 11
  },
  {
   "metadata": {
    "ExecuteTime": {
     "end_time": "2024-07-16T01:31:23.410429Z",
     "start_time": "2024-07-16T01:31:21.085428Z"
    }
   },
   "cell_type": "code",
   "source": [
    "# Setup Embedder\n",
    "\n",
    "# Load the embedding model (https://huggingface.co/nomic-ai/nomic-embed-text-v1\")\n",
    "model = SentenceTransformer(\"nomic-ai/nomic-embed-text-v1\", trust_remote_code=True)\n",
    "\n",
    "def get_embedding(text):\n",
    "   \"\"\"Generates vector embeddings for the given text.\"\"\"\n",
    "   embedding = model.encode(text)\n",
    "   \n",
    "   return embedding.tolist()\n",
    "\n"
   ],
   "id": "b7a1b6bbce0f53fe",
   "outputs": [
    {
     "name": "stderr",
     "output_type": "stream",
     "text": [
      "<All keys matched successfully>\n"
     ]
    }
   ],
   "execution_count": 12
  },
  {
   "metadata": {},
   "cell_type": "markdown",
   "source": "# Setup for performing vector search",
   "id": "f236577fc7f87e17"
  },
  {
   "metadata": {
    "ExecuteTime": {
     "end_time": "2024-07-16T02:22:28.731697Z",
     "start_time": "2024-07-16T02:22:28.519675Z"
    }
   },
   "cell_type": "code",
   "source": [
    "# Connect to Atlas cluster\n",
    "mongo_client = pymongo.MongoClient(mongo_connection_string)\n",
    "\n",
    "# Ingest data into Atlas\n",
    "db = mongo_client[\"netflix_titles\"]\n",
    "collection = db[\"embedded_titles\"]\n",
    "\n",
    "\n",
    "def vector_search(query, limit=5):\n",
    "    \"\"\"Performs a vector search on a given query and returns the top 5 results\"\"\"\n",
    "    query_embedding = get_embedding(query)\n",
    "\n",
    "    pipeline = [\n",
    "        {\n",
    "            \"$vectorSearch\": {\n",
    "                \"index\": \"netflix_titles_description_vector_index\",\n",
    "                \"queryVector\": query_embedding,\n",
    "                \"path\": \"description_embedding\",\n",
    "                \"numCandidates\": 100,\n",
    "                \"limit\": limit\n",
    "            }\n",
    "        },\n",
    "        {\n",
    "            \"$project\": {\n",
    "                \"_id\": 0,\n",
    "                \"title\": 1,\n",
    "                \"description\": 1,\n",
    "                \"score\": {\n",
    "                    \"$meta\": \"vectorSearchScore\"\n",
    "                }\n",
    "            }\n",
    "        }\n",
    "    ]\n",
    "\n",
    "    # Execute the search\n",
    "    return collection.aggregate(pipeline)"
   ],
   "id": "d49210fdf9a7f26d",
   "outputs": [],
   "execution_count": 25
  },
  {
   "metadata": {},
   "cell_type": "markdown",
   "source": "# Performing a sample query",
   "id": "faf7b19e04ba4264"
  },
  {
   "metadata": {
    "ExecuteTime": {
     "end_time": "2024-07-16T02:27:30.898144Z",
     "start_time": "2024-07-16T02:27:30.794223Z"
    }
   },
   "cell_type": "code",
   "source": [
    "results = vector_search(\"dark comedy protagonist with heart of gold\")\n",
    "\n",
    "for result in results:\n",
    "    print(result)\n"
   ],
   "id": "b6238f218cbebee4",
   "outputs": [
    {
     "name": "stdout",
     "output_type": "stream",
     "text": [
      "{'title': 'BoJack Horseman', 'description': \"Meet the most beloved sitcom horse of the '90s, 20 years later. He’s a curmudgeon with a heart of...not quite gold...but something like gold. Copper?\", 'score': 0.7800670266151428}\n",
      "{'title': 'Gbomo Gbomo Express', 'description': 'The night spins sinisterly out of control when incompetent kidnappers hold a club-hopping record exec and a socialite for ransom in this dark comedy.', 'score': 0.772736132144928}\n",
      "{'title': 'For Love or Money', 'description': 'When a goofy but likable millionaire discovers his fiancée’s plan to steal his wealth, he devises an unromantic scheme to make her life a living hell.', 'score': 0.770065188407898}\n",
      "{'title': 'Man in Love', 'description': \"When he meets a debt-ridden woman who's caring for her ailing father, a debt collector with a heart of gold sets out to win her love.\", 'score': 0.7673096656799316}\n",
      "{'title': 'The House of Flowers', 'description': \"In this dark comedy, a wealthy matriarch tries to maintain her family's facade of perfection after her husband's mistress exposes their dirty secrets.\", 'score': 0.7664574384689331}\n"
     ]
    }
   ],
   "execution_count": 28
  }
 ],
 "metadata": {
  "kernelspec": {
   "display_name": "Python 3",
   "language": "python",
   "name": "python3"
  },
  "language_info": {
   "codemirror_mode": {
    "name": "ipython",
    "version": 2
   },
   "file_extension": ".py",
   "mimetype": "text/x-python",
   "name": "python",
   "nbconvert_exporter": "python",
   "pygments_lexer": "ipython2",
   "version": "2.7.6"
  }
 },
 "nbformat": 4,
 "nbformat_minor": 5
}
